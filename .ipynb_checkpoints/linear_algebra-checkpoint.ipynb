{
 "cells": [
  {
   "cell_type": "code",
   "execution_count": 4,
   "id": "308ad2c2-1b17-428c-85a1-38fafdfcb3e1",
   "metadata": {},
   "outputs": [
    {
     "name": "stdout",
     "output_type": "stream",
     "text": [
      "Scalar x:5\n"
     ]
    }
   ],
   "source": [
    "import numpy as np\n",
    "x=5\n",
    "print(f\"Scalar x:{x}\")"
   ]
  },
  {
   "cell_type": "code",
   "execution_count": null,
   "id": "192f5f5e-6c47-4c5b-b2bd-c460f51323f0",
   "metadata": {},
   "outputs": [],
   "source": []
  }
 ],
 "metadata": {
  "kernelspec": {
   "display_name": "Python 3 (ipykernel)",
   "language": "python",
   "name": "python3"
  },
  "language_info": {
   "codemirror_mode": {
    "name": "ipython",
    "version": 3
   },
   "file_extension": ".py",
   "mimetype": "text/x-python",
   "name": "python",
   "nbconvert_exporter": "python",
   "pygments_lexer": "ipython3",
   "version": "3.12.6"
  }
 },
 "nbformat": 4,
 "nbformat_minor": 5
}
