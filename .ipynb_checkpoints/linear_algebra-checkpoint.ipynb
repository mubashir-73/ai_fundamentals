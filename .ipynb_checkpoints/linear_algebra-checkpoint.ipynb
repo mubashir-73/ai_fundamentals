{
 "cells": [
  {
   "cell_type": "code",
   "execution_count": 4,
   "id": "308ad2c2-1b17-428c-85a1-38fafdfcb3e1",
   "metadata": {},
   "outputs": [
    {
     "name": "stdout",
     "output_type": "stream",
     "text": [
      "Scalar x:5\n"
     ]
    }
   ],
   "source": [
    "import numpy as np\n",
    "x=5\n",
    "print(f\"Scalar x:{x}\")"
   ]
  },
  {
   "cell_type": "code",
   "execution_count": 5,
   "id": "192f5f5e-6c47-4c5b-b2bd-c460f51323f0",
   "metadata": {},
   "outputs": [
    {
     "name": "stdout",
     "output_type": "stream",
     "text": [
      "Vector v:[3 4 5]\n"
     ]
    }
   ],
   "source": [
    "v=np.array([3,4,5])\n",
    "print(f\"Vector v:{v}\")"
   ]
  },
  {
   "cell_type": "code",
   "execution_count": 10,
   "id": "13e71b17-bc2b-4669-9389-9fa49e19bbdb",
   "metadata": {},
   "outputs": [
    {
     "data": {
      "text/plain": [
       "5"
      ]
     },
     "execution_count": 10,
     "metadata": {},
     "output_type": "execute_result"
    }
   ],
   "source": [
    "v[2]"
   ]
  },
  {
   "cell_type": "code",
   "execution_count": 12,
   "id": "be8d7210-e7d7-41c6-b798-e1b603dbefd5",
   "metadata": {},
   "outputs": [
    {
     "name": "stdout",
     "output_type": "stream",
     "text": [
      "Matrix Multiplication:\n",
      "[[19 22]\n",
      " [43 50]]\n"
     ]
    }
   ],
   "source": [
    "A=np.array([[1,2],\n",
    "           [3,4]])\n",
    "B=np.array([[5,6],\n",
    "           [7,8]])\n",
    "C= np.dot(A,B)\n",
    "print(\"Matrix Multiplication:\")\n",
    "print(C)"
   ]
  },
  {
   "cell_type": "code",
   "execution_count": 16,
   "id": "7434ba65-674a-4a4c-80b1-3f46087805c2",
   "metadata": {},
   "outputs": [
    {
     "name": "stdout",
     "output_type": "stream",
     "text": [
      "Collecting sympy\n",
      "  Downloading sympy-1.13.3-py3-none-any.whl.metadata (12 kB)\n",
      "Collecting mpmath<1.4,>=1.1.0 (from sympy)\n",
      "  Downloading mpmath-1.3.0-py3-none-any.whl.metadata (8.6 kB)\n",
      "Downloading sympy-1.13.3-py3-none-any.whl (6.2 MB)\n",
      "\u001b[2K   \u001b[38;2;114;156;31m━━━━━━━━━━━━━━━━━━━━━━━━━━━━━━━━━━━━━━━━\u001b[0m \u001b[32m6.2/6.2 MB\u001b[0m \u001b[31m255.5 kB/s\u001b[0m eta \u001b[36m0:00:00\u001b[0m1m253.3 kB/s\u001b[0m eta \u001b[36m0:00:01\u001b[0m\n",
      "\u001b[?25hDownloading mpmath-1.3.0-py3-none-any.whl (536 kB)\n",
      "\u001b[2K   \u001b[38;2;114;156;31m━━━━━━━━━━━━━━━━━━━━━━━━━━━━━━━━━━━━━━━\u001b[0m \u001b[32m536.2/536.2 kB\u001b[0m \u001b[31m300.3 kB/s\u001b[0m eta \u001b[36m0:00:00\u001b[0m31m?\u001b[0m eta \u001b[36m-:--:--\u001b[0m\n",
      "\u001b[?25hInstalling collected packages: mpmath, sympy\n",
      "Successfully installed mpmath-1.3.0 sympy-1.13.3\n"
     ]
    }
   ],
   "source": [
    "!pip install sympy"
   ]
  },
  {
   "cell_type": "code",
   "execution_count": 18,
   "id": "7efd741c-083c-4b24-8752-e24a67755666",
   "metadata": {},
   "outputs": [
    {
     "name": "stdout",
     "output_type": "stream",
     "text": [
      "The derivative of x^4 is: 4*x**3\n",
      "The derivative at x=2 is: 32\n",
      "Aproximate derivative at x=2: 32.00024000094004\n"
     ]
    }
   ],
   "source": [
    "from sympy import symbols,diff\n",
    "x = symbols('x')\n",
    "f=x**4\n",
    "derivative=diff(f,x)\n",
    "print(\"The derivative of x^4 is:\",derivative)\n",
    "\n",
    "derivative_value=derivative.subs(x,2)\n",
    "print('The derivative at x=2 is:',derivative_value)\n",
    "\n",
    "def f(x):\n",
    "    return x**4\n",
    "\n",
    "def derivative_f(x,h=1e-5):\n",
    "    return (f(x+h)-f(x))/h\n",
    "\n",
    "print('Aproximate derivative at x=2:',derivative_f(2))"
   ]
  },
  {
   "cell_type": "code",
   "execution_count": null,
   "id": "963bfcff-691b-4fac-af74-1344c26ad7fa",
   "metadata": {},
   "outputs": [],
   "source": []
  }
 ],
 "metadata": {
  "kernelspec": {
   "display_name": "Python 3 (ipykernel)",
   "language": "python",
   "name": "python3"
  },
  "language_info": {
   "codemirror_mode": {
    "name": "ipython",
    "version": 3
   },
   "file_extension": ".py",
   "mimetype": "text/x-python",
   "name": "python",
   "nbconvert_exporter": "python",
   "pygments_lexer": "ipython3",
   "version": "3.12.6"
  }
 },
 "nbformat": 4,
 "nbformat_minor": 5
}
