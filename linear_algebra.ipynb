{
 "cells": [
  {
   "cell_type": "code",
   "execution_count": 4,
   "id": "308ad2c2-1b17-428c-85a1-38fafdfcb3e1",
   "metadata": {},
   "outputs": [
    {
     "name": "stdout",
     "output_type": "stream",
     "text": [
      "Scalar x:5\n"
     ]
    }
   ],
   "source": [
    "import numpy as np\n",
    "x=5\n",
    "print(f\"Scalar x:{x}\")"
   ]
  },
  {
   "cell_type": "code",
   "execution_count": 5,
   "id": "192f5f5e-6c47-4c5b-b2bd-c460f51323f0",
   "metadata": {},
   "outputs": [
    {
     "name": "stdout",
     "output_type": "stream",
     "text": [
      "Vector v:[3 4 5]\n"
     ]
    }
   ],
   "source": [
    "v=np.array([3,4,5])\n",
    "print(f\"Vector v:{v}\")"
   ]
  },
  {
   "cell_type": "code",
   "execution_count": 10,
   "id": "13e71b17-bc2b-4669-9389-9fa49e19bbdb",
   "metadata": {},
   "outputs": [
    {
     "data": {
      "text/plain": [
       "5"
      ]
     },
     "execution_count": 10,
     "metadata": {},
     "output_type": "execute_result"
    }
   ],
   "source": [
    "v[2]"
   ]
  },
  {
   "cell_type": "code",
   "execution_count": null,
   "id": "be8d7210-e7d7-41c6-b798-e1b603dbefd5",
   "metadata": {},
   "outputs": [],
   "source": [
    "A=\n"
   ]
  }
 ],
 "metadata": {
  "kernelspec": {
   "display_name": "Python 3 (ipykernel)",
   "language": "python",
   "name": "python3"
  },
  "language_info": {
   "codemirror_mode": {
    "name": "ipython",
    "version": 3
   },
   "file_extension": ".py",
   "mimetype": "text/x-python",
   "name": "python",
   "nbconvert_exporter": "python",
   "pygments_lexer": "ipython3",
   "version": "3.12.6"
  }
 },
 "nbformat": 4,
 "nbformat_minor": 5
}
