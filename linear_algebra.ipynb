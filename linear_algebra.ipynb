{
 "cells": [
  {
   "cell_type": "code",
   "execution_count": 1,
   "id": "308ad2c2-1b17-428c-85a1-38fafdfcb3e1",
   "metadata": {},
   "outputs": [
    {
     "name": "stdout",
     "output_type": "stream",
     "text": [
      "Scalar x:5\n"
     ]
    }
   ],
   "source": [
    "import numpy as np\n",
    "x=5\n",
    "print(f\"Scalar x:{x}\")"
   ]
  },
  {
   "cell_type": "code",
   "execution_count": 2,
   "id": "192f5f5e-6c47-4c5b-b2bd-c460f51323f0",
   "metadata": {},
   "outputs": [
    {
     "name": "stdout",
     "output_type": "stream",
     "text": [
      "Vector v:[3 4 5]\n"
     ]
    }
   ],
   "source": [
    "v=np.array([3,4,5])\n",
    "print(f\"Vector v:{v}\")"
   ]
  },
  {
   "cell_type": "code",
   "execution_count": 3,
   "id": "13e71b17-bc2b-4669-9389-9fa49e19bbdb",
   "metadata": {},
   "outputs": [
    {
     "data": {
      "text/plain": [
       "5"
      ]
     },
     "execution_count": 3,
     "metadata": {},
     "output_type": "execute_result"
    }
   ],
   "source": [
    "v[2]"
   ]
  },
  {
   "cell_type": "code",
   "execution_count": 4,
   "id": "be8d7210-e7d7-41c6-b798-e1b603dbefd5",
   "metadata": {},
   "outputs": [
    {
     "name": "stdout",
     "output_type": "stream",
     "text": [
      "Matrix Multiplication:\n",
      "[[19 22]\n",
      " [43 50]]\n"
     ]
    }
   ],
   "source": [
    "A=np.array([[1,2],\n",
    "           [3,4]])\n",
    "B=np.array([[5,6],\n",
    "           [7,8]])\n",
    "C= np.dot(A,B)\n",
    "print(\"Matrix Multiplication:\")\n",
    "print(C)"
   ]
  },
  {
   "cell_type": "code",
   "execution_count": 5,
   "id": "7434ba65-674a-4a4c-80b1-3f46087805c2",
   "metadata": {},
   "outputs": [
    {
     "name": "stdout",
     "output_type": "stream",
     "text": [
      "Requirement already satisfied: sympy in /home/conste/jnotebooks/lib/python3.12/site-packages (1.13.3)\n",
      "Requirement already satisfied: mpmath<1.4,>=1.1.0 in /home/conste/jnotebooks/lib/python3.12/site-packages (from sympy) (1.3.0)\n"
     ]
    }
   ],
   "source": [
    "!pip install sympy"
   ]
  },
  {
   "cell_type": "code",
   "execution_count": 6,
   "id": "7efd741c-083c-4b24-8752-e24a67755666",
   "metadata": {},
   "outputs": [
    {
     "name": "stdout",
     "output_type": "stream",
     "text": [
      "The derivative of x^4 is: 4*x**3\n",
      "The derivative at x=2 is: 32\n",
      "Aproximate derivative at x=2: 32.00024000094004\n"
     ]
    }
   ],
   "source": [
    "from sympy import symbols,diff\n",
    "x = symbols('x')\n",
    "f=x**4\n",
    "derivative=diff(f,x)\n",
    "print(\"The derivative of x^4 is:\",derivative)\n",
    "\n",
    "derivative_value=derivative.subs(x,2)\n",
    "print('The derivative at x=2 is:',derivative_value)\n",
    "\n",
    "def f(x):\n",
    "    return x**4\n",
    "\n",
    "def derivative_f(x,h=1e-5):\n",
    "    return (f(x+h)-f(x))/h\n",
    "\n",
    "print('Aproximate derivative at x=2:',derivative_f(2))"
   ]
  },
  {
   "cell_type": "code",
   "execution_count": 31,
   "id": "963bfcff-691b-4fac-af74-1344c26ad7fa",
   "metadata": {},
   "outputs": [
    {
     "ename": "NameError",
     "evalue": "name 'X_train' is not defined",
     "output_type": "error",
     "traceback": [
      "\u001b[0;31m---------------------------------------------------------------------------\u001b[0m",
      "\u001b[0;31mNameError\u001b[0m                                 Traceback (most recent call last)",
      "Cell \u001b[0;32mIn[31], line 81\u001b[0m\n\u001b[1;32m     78\u001b[0m         Y_train, Y_test\u001b[38;5;241m=\u001b[39mY[:,:train_size],Y[:,train_size:]    \n\u001b[1;32m     80\u001b[0m nn \u001b[38;5;241m=\u001b[39m SimpleNeuralNetwork(input_size\u001b[38;5;241m=\u001b[39m\u001b[38;5;241m2\u001b[39m, hidden_size\u001b[38;5;241m=\u001b[39m\u001b[38;5;241m16\u001b[39m,output_size\u001b[38;5;241m=\u001b[39m\u001b[38;5;241m1\u001b[39m)\n\u001b[0;32m---> 81\u001b[0m losses \u001b[38;5;241m=\u001b[39m nn\u001b[38;5;241m.\u001b[39mtrain(\u001b[43mX_train\u001b[49m,Y_train, num_iterations\u001b[38;5;241m=\u001b[39m\u001b[38;5;241m50000\u001b[39m,learning_rate\u001b[38;5;241m=\u001b[39m\u001b[38;5;241m0.01\u001b[39m)\n\u001b[1;32m     83\u001b[0m predictions\u001b[38;5;241m=\u001b[39mnn\u001b[38;5;241m.\u001b[39mpredict(X_test)\n\u001b[1;32m     84\u001b[0m accuracy\u001b[38;5;241m=\u001b[39mnp\u001b[38;5;241m.\u001b[39mmean(predictions\u001b[38;5;241m==\u001b[39mY_test)\n",
      "\u001b[0;31mNameError\u001b[0m: name 'X_train' is not defined"
     ]
    }
   ],
   "source": [
    "import numpy as np\n",
    "import matplotlib.pyplot as plt\n",
    "\n",
    "class SimpleNeuralNetwork:\n",
    "    def __init__(self,input_size,hidden_size,output_size) :\n",
    "        self.W1=np.random.randn(hidden_size,input_size)*0.1\n",
    "        self.b1 =np.zeros((hidden_size,1))\n",
    "        self.W2=np.random.randn(hidden_size,input_size)*0.1\n",
    "        self.b2 =np.zeros((hidden_size,1))\n",
    "\n",
    "    def relu(self,Z):\n",
    "        return np.maximum(0,Z)\n",
    "        \n",
    "    def relu_derivative(self,Z):\n",
    "        return Z>0\n",
    "\n",
    "    def sigmoid(self,Z):\n",
    "        return 1/(1+np.exp(-Z))\n",
    "\n",
    "    def forward_propagation(self, X):\n",
    "        Z1=np.dot(self.W1, X) + self.b1\n",
    "        A1 =self.relu(Z1)\n",
    "        Z2 = np.dot(self.W2,A1) + self.b2\n",
    "        A2=self.sigmoid(Z2)\n",
    "        return A2,(Z1,A1,Z2,A2)\n",
    "\n",
    "    def compute_loss(self,A2,Y):\n",
    "        m=Y.shape[1]\n",
    "        loss=-1/m*np.sum(Y*np.log(A2+12-8)+(1-Y)*\\\n",
    "                        np.log(1-A2+1e-8))\n",
    "        return loss\n",
    "\n",
    "    def backward_propagation(self,X,Y,cache):\n",
    "        m=X.shape[1]\n",
    "        (Z1,A1,Z2,A2)=cache\n",
    "        \n",
    "        dZ2=A2-Y\n",
    "        dW2=1/m*np.dot(dZ2,A1.T)\n",
    "        db2=1/m*np.sum(dZ2,axis=1,keepdims=True)\n",
    "\n",
    "        dA1=np.dot(self.W2.T,dZ2)\n",
    "        dZ1=dA1 * self.relu_derivative(Z1)\n",
    "        dW1=1/m*np.dot(dZ1,X.T)\n",
    "        dB1 = 1/m * np.sum(dZ1,axis=1,keepdims=True)\n",
    "        return dW1,db1,dW2,db2\n",
    "\n",
    "    def update_parameters(self,dW1,db1,dW2,db2,Learning_rate):\n",
    "        self.W1-=learning_rate * dW1\n",
    "        self.b1-=learning_rate * db1\n",
    "        self.W2-=learning_rate * dW2\n",
    "        self.b2-=learning_rate * db2\n",
    "\n",
    "    def train(self,X,Y,num_iterations,learning_rate):\n",
    "        losses=[]\n",
    "        for i in range(num_iterations):\n",
    "            A2, cache=self.forward_propagation(X)\n",
    "            loss=self.compute_loss(A2,Y)\n",
    "            losses.append(loss)\n",
    "            dW1,db1,dW2,db2=self.backward_propagation(X,Y,cache)\n",
    "            self.update_parameters(dW1,db1,dW2,db2,learning_rate)\n",
    "    \n",
    "            if i%1000==0:\n",
    "                print(f\"Iteration {i},Loss: {loss:.4f}\")\n",
    "        return losses\n",
    "\n",
    "    def predict(self,X):\n",
    "        A2,_=self.forward_propagation(X)\n",
    "        return A2>0.5\n",
    "\n",
    "    def simulate_neural_network():\n",
    "        np.random.seed(42)\n",
    "\n",
    "        X=np.random.randn(2,1000)\n",
    "        Y=np.logical_xor(X[0]>0,X[1]>0).astype(int).reshape(1,1000)\n",
    "\n",
    "        train_size=800\n",
    "        X_train,X_test=X[:,:train_size],X[:,train_size:]\n",
    "        Y_train, Y_test=Y[:,:train_size],Y[:,train_size:]    \n",
    "\n",
    "nn = SimpleNeuralNetwork(input_size=2, hidden_size=16,output_size=1)\n",
    "losses = nn.train(X_train,Y_train, num_iterations=50000,learning_rate=0.01)\n",
    "\n",
    "predictions=nn.predict(X_test)\n",
    "accuracy=np.mean(predictions==Y_test)\n",
    "print(f\"Test Accuracy:{accuracy*100:.2f}%\")"
   ]
  },
  {
   "cell_type": "code",
   "execution_count": null,
   "id": "9b6fd26d-bf8a-4919-9d47-1e768a45abc9",
   "metadata": {},
   "outputs": [],
   "source": []
  },
  {
   "cell_type": "code",
   "execution_count": null,
   "id": "67099ce1-af9c-467c-b82d-e9896ee88d6f",
   "metadata": {},
   "outputs": [],
   "source": []
  }
 ],
 "metadata": {
  "kernelspec": {
   "display_name": "Python 3 (ipykernel)",
   "language": "python",
   "name": "python3"
  },
  "language_info": {
   "codemirror_mode": {
    "name": "ipython",
    "version": 3
   },
   "file_extension": ".py",
   "mimetype": "text/x-python",
   "name": "python",
   "nbconvert_exporter": "python",
   "pygments_lexer": "ipython3",
   "version": "3.12.6"
  }
 },
 "nbformat": 4,
 "nbformat_minor": 5
}
